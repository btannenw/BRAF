{
 "cells": [
  {
   "cell_type": "code",
   "execution_count": 1,
   "metadata": {},
   "outputs": [],
   "source": [
    "# TO-DO\n",
    "# 0) look at data, determine scale of imbalance\n",
    "# 1) data-reading\n",
    "# 2) implement k-means treatment\n",
    "# 3) forest stuff\n",
    "#\n",
    "#...\n",
    "#\n",
    "# X) understand why self-outcome isn't in top neighbors\n",
    "\n"
   ]
  },
  {
   "cell_type": "code",
   "execution_count": null,
   "metadata": {},
   "outputs": [],
   "source": [
    "#sources:\n",
    "#    https://machinelearningmastery.com/implement-decision-tree-algorithm-scratch-python/\n",
    "#    pandas user manual"
   ]
  },
  {
   "cell_type": "code",
   "execution_count": 1,
   "metadata": {},
   "outputs": [],
   "source": [
    "import pandas as pd\n",
    "from matplotlib import pyplot as plt\n",
    "import numpy as np"
   ]
  },
  {
   "cell_type": "code",
   "execution_count": 2,
   "metadata": {},
   "outputs": [],
   "source": [
    "df_raw = pd.read_csv('/home/btannenw/Desktop/life/challenges/BRAF/ML_Technical/diabetes.csv')"
   ]
  },
  {
   "cell_type": "code",
   "execution_count": 5,
   "metadata": {},
   "outputs": [
    {
     "name": "stdout",
     "output_type": "stream",
     "text": [
      "Pregnancies 0 17\n",
      "Glucose 0 198\n",
      "BloodPressure 24 110\n",
      "SkinThickness 7 63\n",
      "Insulin 14 846\n",
      "BMI 0.0 67.1\n",
      "DiabetesPedigreeFunction 0.085 2.42\n",
      "Age 21 81\n",
      "Pregnancies 3.286802030456853 3.2055596415650096\n",
      "Glucose 122.30456852791878 31.356855959690474\n",
      "BloodPressure 70.65482233502539 12.45408377334157\n",
      "SkinThickness 29.106598984771573 10.490934307595936\n",
      "Insulin 155.5482233502538 118.62502864362725\n",
      "BMI 32.98857868020305 7.201004337041017\n",
      "DiabetesPedigreeFunction 0.5255431472081219 0.34968234231099693\n",
      "Age 30.814720812182742 10.186020406620273\n"
     ]
    }
   ],
   "source": [
    "df_raw\n",
    "df_dropZero = df_raw[ df_raw.Insulin!=0]\n",
    "df_minMaxScale = minMaxScaleVariables(df_dropZero)\n",
    "df_standardScale = standardScaleVariables(df_dropZero)"
   ]
  },
  {
   "cell_type": "code",
   "execution_count": 4,
   "metadata": {},
   "outputs": [],
   "source": [
    "def plotOneVariable(_df, varName='', bins=10):\n",
    "    \"\"\" just like what it sounds like\"\"\"\n",
    "    \n",
    "    plt.hist( _df[varName], bins=bins)\n",
    "    plt.xlabel(varName)\n",
    "    plt.show()\n",
    "    \n",
    "    return\n",
    "\n",
    "def calculateCorrelation(_df, varName1='', varName2='', threshold=0.0):\n",
    "    \"\"\" calculate correlation between two variables\"\"\"\n",
    "    \n",
    "    r = np.corrcoef( _df[varName1], _df[varName2])\n",
    "    #print(r)\n",
    "    p = r[0,1]\n",
    "    \n",
    "    if np.abs(p) > threshold:\n",
    "        print(\"Pearson R ({},{}) = {:.3f}\".format(varName1, varName2, r[0,1]))\n",
    "    \n",
    "    return\n",
    "\n",
    "def minMaxScaleVariables(df):\n",
    "    \"\"\"return dataframe with variables scaled to [0,1] \"\"\"\n",
    "    _df = df.copy()\n",
    "    \n",
    "    for variable in _df.columns.to_list():\n",
    "        if variable == 'Outcome':\n",
    "            continue\n",
    "            \n",
    "        minVal = np.min(_df[variable])\n",
    "        maxVal = np.max(_df[variable])\n",
    "        print(variable, minVal, maxVal)\n",
    "        _df[variable] = _df[variable].apply(lambda x: (x-minVal)/maxVal)\n",
    "        \n",
    "    return _df\n",
    "\n",
    "def standardScaleVariables(df):\n",
    "    \"\"\"return dataframe with variables scaled to [0,1] \"\"\"\n",
    "    _df = df.copy()\n",
    "    \n",
    "    for variable in _df.columns.to_list():\n",
    "        if variable == 'Outcome':\n",
    "            continue\n",
    "            \n",
    "        meanVal = np.mean(_df[variable])\n",
    "        stdVal = np.std(_df[variable])\n",
    "        print(variable, meanVal, stdVal)\n",
    "        _df[variable] = _df[variable].apply(lambda x: (x-meanVal)/stdVal)\n",
    "        \n",
    "    return _df\n"
   ]
  },
  {
   "cell_type": "code",
   "execution_count": 6,
   "metadata": {},
   "outputs": [],
   "source": [
    "def returnTestTrainSplit(_df, testingFraction=0.2):\n",
    "    \"\"\"takes in dataset, returns testing and training sets split by outcome\"\"\"\n",
    "    \n",
    "    # Outcome == 1\n",
    "    _df_outcome1 = _df[_df.Outcome == 1]\n",
    "    _trainLength = int((1-testingFraction)*len(_df_outcome1))\n",
    "    \n",
    "    _train_outcome1 = _df_outcome1[:_trainLength]\n",
    "    _test_outcome1  = _df_outcome1[_trainLength:]\n",
    "    print(len(_df_outcome1), _trainLength, len(_train_outcome1), len(_test_outcome1))\n",
    "\n",
    "    # Outcome == 0\n",
    "    _df_outcome0 = _df[_df.Outcome == 0]\n",
    "    _trainLength = int((1-testingFraction)*len(_df_outcome0))\n",
    "    \n",
    "    _train_outcome0 = _df_outcome0[:_trainLength]\n",
    "    _test_outcome0  = _df_outcome0[_trainLength:]\n",
    "    print(len(_df_outcome0), _trainLength, len(_train_outcome0), len(_test_outcome0))\n",
    "\n",
    "    return _train_outcome1, _test_outcome1, _train_outcome0, _test_outcome0\n",
    "\n",
    "def returnDistance(testRow, seedRow):\n",
    "    \"\"\" calculate distance and return\"\"\"\n",
    "    \n",
    "    distance = 0\n",
    "    \n",
    "    for variable in testRow.keys().to_list():\n",
    "        distance += (testRow[variable]-seedRow[variable])**2\n",
    "    \n",
    "    return np.sqrt(distance)\n",
    "\n",
    "def applyNeighborDistance(seedRow, df):\n",
    "    \"\"\"add column of distance to original point\"\"\"\n",
    "    _df = df.copy()\n",
    "    \n",
    "    _df['neighborDistance'] = _df.apply( lambda x: returnDistance(x, seedRow), axis=1)\n",
    "    \n",
    "    return _df\n",
    "    \n",
    "\n",
    "def buildCriticalSet( _train0, _train1, k=5):\n",
    "    \"\"\" build critical set using k-nearest neighbor algorithm\"\"\"\n",
    "    \n",
    "    _Tc = _train1.copy()\n",
    "    _T = _train0.copy()\n",
    "    _T = _T.append(_train1.copy())\n",
    "    \n",
    "    for iRow in range(0, len(_T)):\n",
    "        if _T.iloc[iRow].Outcome == 1:\n",
    "            # calculate distance for selected rows and apply as new column\n",
    "            _tempT = applyNeighborDistance( _T.iloc[iRow], _T)\n",
    "            # keep the top 6 (includes self + top5)\n",
    "            _tempTop6 = _tempT.nsmallest(k+1, 'neighborDistance')\n",
    "            _tempTop6 = _tempTop6.drop(columns=['neighborDistance'])\n",
    "            #print(iRow, _tempTop6)\n",
    "            \n",
    "            # add top to critical set\n",
    "            _Tc = _Tc.append(_tempTop6)\n",
    "            \n",
    "            # drop duplicates\n",
    "            _Tc.drop_duplicates(keep='first', inplace=True)\n",
    "\n",
    "    return _Tc"
   ]
  },
  {
   "cell_type": "code",
   "execution_count": 8,
   "metadata": {},
   "outputs": [
    {
     "data": {
      "image/png": "[encoded data removed]",
      "text/plain": [
       "<Figure size 432x288 with 1 Axes>"
      ]
     },
     "metadata": {
      "needs_background": "light"
     },
     "output_type": "display_data"
    },
    {
     "data": {
      "image/png": "[encoded data removed]",
      "text/plain": [
       "<Figure size 432x288 with 1 Axes>"
      ]
     },
     "metadata": {
      "needs_background": "light"
     },
     "output_type": "display_data"
    },
    {
     "data": {
      "image/png": "[encoded data removed]",
      "text/plain": [
       "<Figure size 432x288 with 1 Axes>"
      ]
     },
     "metadata": {
      "needs_background": "light"
     },
     "output_type": "display_data"
    }
   ],
   "source": [
    "nBins = 20\n",
    "#plotVar = 'Insulin'\n",
    "plotVar = 'SkinThickness'\n",
    "\n",
    "for variable in df_dropZero.columns.to_list():\n",
    "    if variable == plotVar:\n",
    "        plotOneVariable(df_dropZero, variable, bins=nBins)\n",
    "        plotOneVariable(df_minMaxScale, variable, bins=nBins)\n",
    "        plotOneVariable(df_standardScale, variable, bins=nBins)"
   ]
  },
  {
   "cell_type": "code",
   "execution_count": null,
   "metadata": {},
   "outputs": [],
   "source": []
  },
  {
   "cell_type": "code",
   "execution_count": 37,
   "metadata": {},
   "outputs": [
    {
     "name": "stdout",
     "output_type": "stream",
     "text": [
      "Pearson R (Pregnancies,Age) = 0.681\n",
      "Pearson R (Glucose,Insulin) = 0.580\n",
      "Pearson R (Glucose,Age) = 0.346\n",
      "Pearson R (BloodPressure,BMI) = 0.302\n",
      "Pearson R (SkinThickness,BMI) = 0.653\n",
      "Pearson R (Insulin,Glucose) = 0.580\n",
      "Pearson R (BMI,BloodPressure) = 0.302\n",
      "Pearson R (BMI,SkinThickness) = 0.653\n",
      "Pearson R (Age,Pregnancies) = 0.681\n",
      "Pearson R (Age,Glucose) = 0.346\n"
     ]
    }
   ],
   "source": [
    "correlationThreshold = 0.3\n",
    "\n",
    "for var1 in df_raw.columns.to_list():\n",
    "    if var1 == 'Outcome':\n",
    "        continue\n",
    "    for var2 in df_raw.columns.to_list():\n",
    "        if var2 == 'Outcome':\n",
    "            continue\n",
    "            \n",
    "        if var1 != var2:\n",
    "            calculateCorrelation(df_dropZero, var1, var2, correlationThreshold)"
   ]
  },
  {
   "cell_type": "code",
   "execution_count": null,
   "metadata": {},
   "outputs": [],
   "source": []
  },
  {
   "cell_type": "code",
   "execution_count": 40,
   "metadata": {},
   "outputs": [
    {
     "name": "stdout",
     "output_type": "stream",
     "text": [
      "0    264\n",
      "1    130\n",
      "Name: Outcome, dtype: int64\n",
      "% Positive: 0.330\n",
      "Pearson R (Outcome,Insulin) = 0.303\n",
      "0    500\n",
      "1    268\n",
      "Name: Outcome, dtype: int64\n",
      "% Positive: 0.349\n"
     ]
    }
   ],
   "source": [
    "print(df_dropZero.Outcome.value_counts())\n",
    "print(\"% Positive: {:.3f}\".format(130/(264+130)))\n",
    "calculateCorrelation(df_dropZero, \"Outcome\", \"Insulin\")\n",
    "\n",
    "print(df_raw.Outcome.value_counts())\n",
    "print(\"% Positive: {:.3f}\".format(268/(500+268)))"
   ]
  },
  {
   "cell_type": "code",
   "execution_count": 41,
   "metadata": {},
   "outputs": [
    {
     "name": "stdout",
     "output_type": "stream",
     "text": [
      "Pearson R (Outcome,Insulin) = 0.131\n"
     ]
    }
   ],
   "source": [
    "\n",
    "calculateCorrelation(df_raw, \"Outcome\", \"Insulin\")"
   ]
  },
  {
   "cell_type": "code",
   "execution_count": null,
   "metadata": {},
   "outputs": [],
   "source": []
  },
  {
   "cell_type": "code",
   "execution_count": 7,
   "metadata": {},
   "outputs": [
    {
     "name": "stdout",
     "output_type": "stream",
     "text": [
      "130 110 110 20\n",
      "264 224 224 40\n"
     ]
    }
   ],
   "source": [
    "# create testing and training sets\n",
    "train1, test1, train0, test0 = returnTestTrainSplit(df_standardScale, testingFraction=0.15)"
   ]
  },
  {
   "cell_type": "code",
   "execution_count": 35,
   "metadata": {},
   "outputs": [
    {
     "name": "stdout",
     "output_type": "stream",
     "text": [
      "334\n"
     ]
    }
   ],
   "source": [
    "# build total set from training data\n",
    "T = train0.copy()\n",
    "T = T.append(train1.copy())\n",
    "T = T.sample(frac=1.)\n",
    "print(len(T))"
   ]
  },
  {
   "cell_type": "code",
   "execution_count": 9,
   "metadata": {},
   "outputs": [
    {
     "data": {
      "text/plain": [
       "261"
      ]
     },
     "execution_count": 9,
     "metadata": {},
     "output_type": "execute_result"
    }
   ],
   "source": [
    "# build critical set from training data\n",
    "Tc = buildCriticalSet(train0, train1, 10)\n",
    "len(Tc)"
   ]
  },
  {
   "cell_type": "code",
   "execution_count": null,
   "metadata": {},
   "outputs": [],
   "source": []
  },
  {
   "cell_type": "code",
   "execution_count": 102,
   "metadata": {},
   "outputs": [],
   "source": [
    "### Random Forest Block ###\n",
    "\n",
    "def buildRandomForest(_train, _test, maxDepth, minSize, nTrees, sampleSize=1.0):\n",
    "    \"\"\"build random forest given user hyperparameters\"\"\"\n",
    "    _trees = []\n",
    "    for i in np.arange(0, nTrees):\n",
    "        _trainSample = _train.sample(frac=sampleSize, replace=True)\n",
    "        _tree = buildTree( _trainSample, maxDepth, minSize)\n",
    "        _trees.append( _tree)\n",
    "    \n",
    "    #predictions = [bagging_predict(trees, row) for row in test]\n",
    "    \n",
    "    return(predictions)\n",
    "\n",
    "\n",
    "def buildTree( _df, max_depth, min_size):\n",
    "    \"\"\" build a single decision tree \"\"\"\n",
    "    \n",
    "    _tree = getBestSplit( _df)\n",
    "    fillTree( _tree, max_depth, min_size, 1)\n",
    "    \n",
    "    return _tree\n",
    "\n",
    "\n",
    "def fillTree(node, max_depth, min_size, depth):\n",
    "    \"\"\"Create child splits for a node or make terminal\"\"\"\n",
    "\n",
    "    left, right = node['groups']\n",
    "    del(node['groups'])\n",
    "    # check for a no split\n",
    "    if len(left)==0 or len(right)==0:\n",
    "        _merge = left.copy()\n",
    "        _merge = _merge.append(right.copy())\n",
    "        node['left'] = _merge\n",
    "        node['right'] = node['left']\n",
    "        return\n",
    "    # check for max depth\n",
    "    if depth >= max_depth:\n",
    "        node['left'], node['right'] = terminalNode(left), terminalNode(right)\n",
    "        return\n",
    "    # process left child\n",
    "    if len(left) <= min_size:\n",
    "        node['left'] = terminalNode(left)\n",
    "    else:\n",
    "        node['left'] = getBestSplit(left)\n",
    "        fillTree(node['left'], max_depth, min_size, depth+1)\n",
    "    # process right child\n",
    "    if len(right) <= min_size:\n",
    "        node['right'] = terminalNode(right)\n",
    "    else:\n",
    "        node['right'] = getBestSplit(right)\n",
    "        fillTree(node['right'], max_depth, min_size, depth+1)\n",
    "        \n",
    "    return\n",
    "        \n",
    "def getBestSplit( _df):\n",
    "    \"\"\" get best split point in dataset \"\"\"\n",
    "    \n",
    "    _best_variable = -1\n",
    "    _best_split = -1\n",
    "    _best_gini = 9999\n",
    "    _best_groups = []\n",
    "    \n",
    "    \n",
    "    for variable in _df.columns.to_list():\n",
    "        if variable == 'Outcome':\n",
    "            continue\n",
    "        \n",
    "        _splitVals = set(np.sort(_df[variable].values))\n",
    "        for _split in _splitVals:\n",
    "            _groups = list( (_df[ _df[variable] > _split], _df[ _df[variable] <= _split] ))\n",
    "            _classes = _df.Outcome.value_counts().keys().to_list()\n",
    "    \n",
    "            _gini = giniIndex( _groups, _classes)\n",
    "            if _gini < _best_gini:\n",
    "                _best_variable = variable\n",
    "                _best_split = _split\n",
    "                _best_gini = _gini\n",
    "                _best_groups = _groups\n",
    "\n",
    "    print(\"Best Split using {}, cut: {:.3f}, gini: {:.3f}, n_left: {}, n_right: {}\".format(_best_variable, _best_split, _best_gini, len(_best_groups[0]), len(_best_groups[1])))   \n",
    " \n",
    "    return {'variable':_best_variable, 'split':_best_split, 'groups':_best_groups}\n",
    "\n",
    "\n",
    "def giniIndex(group_dfs, classes):\n",
    "    # count all samples at split point\n",
    "    n_instances = float(sum([len(group_df) for group_df in group_dfs]))\n",
    "    # sum weighted Gini index for each group\n",
    "    gini = 0.0\n",
    "    for group_df in group_dfs:\n",
    "        size = float(len(group_df))\n",
    "        # avoid divide by zero\n",
    "        if size == 0:\n",
    "            continue\n",
    "        score = 0.0\n",
    "        # score the group based on the score for each class\n",
    "        for class_val in classes:\n",
    "            p = len( group_df[ group_df.Outcome == class_val] ) / size\n",
    "            score += p * p\n",
    "        # weight the group score by its relative size\n",
    "        gini += (1.0 - score) * (size / n_instances)\n",
    "        \n",
    "    return gini \n",
    "\n",
    "def terminalNode(_df):\n",
    "    \"\"\" return value of most common outcome in a node. this is node prediction\"\"\"\n",
    "    return _df.Outcome.value_counts().idxmax()\n",
    "\n",
    "def printTree(node, depth=0):\n",
    "    \"\"\"print decision tree\"\"\"\n",
    "    \n",
    "    if isinstance(node, dict):\n",
    "        #print('%s[X%d < %.3f]' % ((depth*' ', (node['split']+1), node['variable'])))\n",
    "        print('{} [{} < {:.3f}]'.format(depth, node['variable'], (node['split']+1) ))\n",
    "        printTree(node['left'], depth+1)\n",
    "        printTree(node['right'], depth+1)\n",
    "    else:\n",
    "        print('{} [{}]'.format(depth, node))"
   ]
  },
  {
   "cell_type": "code",
   "execution_count": 103,
   "metadata": {},
   "outputs": [
    {
     "name": "stdout",
     "output_type": "stream",
     "text": [
      "Best Split using Glucose, cut: 0.150, gini: 0.348, n_left: 127, n_right: 207\n",
      "Best Split using BMI, cut: -0.484, gini: 0.406, n_left: 97, n_right: 30\n",
      "Best Split using DiabetesPedigreeFunction, cut: -0.528, gini: 0.371, n_left: 67, n_right: 30\n",
      "Best Split using Glucose, cut: 0.724, gini: 0.233, n_left: 11, n_right: 19\n",
      "Best Split using Insulin, cut: -0.030, gini: 0.236, n_left: 41, n_right: 166\n",
      "Best Split using Age, cut: -0.276, gini: 0.284, n_left: 23, n_right: 18\n",
      "Best Split using BMI, cut: 1.918, gini: 0.164, n_left: 1, n_right: 165\n",
      "0 [Glucose < 1.150]\n",
      "1 [BMI < 0.516]\n",
      "2 [DiabetesPedigreeFunction < 0.472]\n",
      "3 [1]\n",
      "3 [1]\n",
      "2 [Glucose < 1.724]\n",
      "3 [1]\n",
      "3 [0]\n",
      "1 [Insulin < 0.970]\n",
      "2 [Age < 0.724]\n",
      "3 [1]\n",
      "3 [0]\n",
      "2 [BMI < 2.918]\n",
      "3 [1]\n",
      "3 [0]\n"
     ]
    }
   ],
   "source": [
    "tree = buildTree(T, max_depth=3, min_size=10)\n",
    "printTree(tree)"
   ]
  },
  {
   "cell_type": "code",
   "execution_count": null,
   "metadata": {},
   "outputs": [],
   "source": [
    "# Make a prediction with a decision tree\n",
    "def predict(node, row):\n",
    "\tif row[node['index']] < node['value']:\n",
    "\t\tif isinstance(node['left'], dict):\n",
    "\t\t\treturn predict(node['left'], row)\n",
    "\t\telse:\n",
    "\t\t\treturn node['left']\n",
    "\telse:\n",
    "\t\tif isinstance(node['right'], dict):\n",
    "\t\t\treturn predict(node['right'], row)\n",
    "\t\telse:\n",
    "\t\t\treturn node['right']\n",
    " \n",
    " \n",
    "# Make a prediction with a list of bagged trees\n",
    "def bagging_predict(trees, row):\n",
    "\tpredictions = [predict(tree, row) for tree in trees]\n",
    "\treturn max(set(predictions), key=predictions.count)\n",
    " \n",
    "# Random Forest Algorithm\n",
    "def random_forest(train, test, max_depth, min_size, sample_size, n_trees, n_features):\n",
    "\ttrees = list()\n",
    "\tfor i in range(n_trees):\n",
    "\t\tsample = subsample(train, sample_size)\n",
    "\t\ttree = build_tree(sample, max_depth, min_size, n_features)\n",
    "\t\ttrees.append(tree)\n",
    "\tpredictions = [bagging_predict(trees, row) for row in test]\n",
    "\treturn(predictions)"
   ]
  },
  {
   "cell_type": "code",
   "execution_count": null,
   "metadata": {},
   "outputs": [],
   "source": []
  },
  {
   "cell_type": "code",
   "execution_count": 40,
   "metadata": {},
   "outputs": [
    {
     "name": "stdout",
     "output_type": "stream",
     "text": [
      "Best Split using Glucose, cut: 0.150, gini: 0.348, n_left: 127, n_right: 207\n"
     ]
    },
    {
     "data": {
      "text/plain": [
       "{'variable': 'Glucose',\n",
       " 'split': 0.1497417814501953,\n",
       " 'groups': [     Pregnancies   Glucose  BloodPressure  SkinThickness   Insulin       BMI  \\\n",
       "  338     1.782278  0.947016       0.589781       0.466441  0.130257  0.168229   \n",
       "  480    -0.089470  1.138361      -0.052579       0.085159  1.453755  0.348760   \n",
       "  548    -0.713386  1.329707       0.910960       1.324324 -0.746455 -0.026188   \n",
       "  285     1.158362  0.436760       0.268601      -0.296122 -0.173220 -0.970501   \n",
       "  340    -0.713386  0.245415      -0.052579      -1.535287 -0.426118 -0.984388   \n",
       "  ..           ...       ...            ...            ...       ...       ...   \n",
       "  28      3.030110  0.723779       0.910960      -0.963365 -0.383968 -1.498205   \n",
       "  415    -0.089470  1.616726       1.071550       0.371121  2.684524  0.376534   \n",
       "  546     0.534446  2.063199       0.429191      -0.200802  0.433735  1.473603   \n",
       "  419    -0.089470  0.213524      -0.534349      -0.010161 -0.341818 -0.914953   \n",
       "  539    -0.089470  0.213524       1.713910       1.896247 -0.004621  0.473742   \n",
       "  \n",
       "       DiabetesPedigreeFunction       Age  Outcome  \n",
       "  338                  1.050830  0.214537        1  \n",
       "  480                 -0.519166  0.410885        1  \n",
       "  548                 -0.527745  1.883491        0  \n",
       "  285                  0.347335  1.981665        0  \n",
       "  340                 -0.153119 -0.865374        0  \n",
       "  ..                        ...       ...      ...  \n",
       "  28                  -0.802280  2.570708        0  \n",
       "  415                 -0.765103 -0.865374        1  \n",
       "  546                  1.454054  2.178012        1  \n",
       "  419                 -0.876633 -0.276332        1  \n",
       "  539                  1.265311  0.116363        1  \n",
       "  \n",
       "  [127 rows x 9 columns],\n",
       "       Pregnancies   Glucose  BloodPressure  SkinThickness   Insulin       BMI  \\\n",
       "  526    -0.713386 -0.806987      -0.534349      -0.963365 -0.620006 -2.053683   \n",
       "  51     -0.713386 -0.679423      -1.658478      -1.344647 -1.007782 -1.220466   \n",
       "  576     0.846404 -0.456186      -2.140248      -0.868045 -0.215370 -1.248240   \n",
       "  358     2.718152 -1.094005       0.268601       1.038363 -0.856044  0.320986   \n",
       "  87     -0.401428 -0.711314      -0.213169      -0.391443 -0.712735  0.765368   \n",
       "  ..           ...       ...            ...            ...       ...       ...   \n",
       "  637    -0.401428 -0.902660       0.429191      -1.058685 -0.754885 -0.192831   \n",
       "  638     1.158362 -0.806987       0.429191       0.275800 -0.544137  1.098655   \n",
       "  214     1.782278 -0.328623       0.910960       0.275800  0.163977  0.168229   \n",
       "  99     -0.713386 -0.009713       1.553320       2.086888  0.543324  2.320707   \n",
       "  97     -0.713386 -1.636152      -1.819068      -1.058685 -0.670585 -1.748170   \n",
       "  \n",
       "       DiabetesPedigreeFunction       Age  Outcome  \n",
       "  526                 -0.647854 -0.963548        0  \n",
       "  51                   0.001306 -0.472679        0  \n",
       "  576                  0.822051  0.410885        0  \n",
       "  358                 -0.421935  1.687144        0  \n",
       "  87                  -0.576361 -0.472679        0  \n",
       "  ..                        ...       ...      ...  \n",
       "  637                  0.353054 -0.767201        0  \n",
       "  638                  0.987916  0.116363        1  \n",
       "  214                 -0.759384  0.509058        1  \n",
       "  99                  -0.573501  0.018190        1  \n",
       "  97                  -0.579220 -0.865374        0  \n",
       "  \n",
       "  [207 rows x 9 columns]]}"
      ]
     },
     "execution_count": 40,
     "metadata": {},
     "output_type": "execute_result"
    }
   ],
   "source": [
    "getBestSplit(T)"
   ]
  },
  {
   "cell_type": "code",
   "execution_count": 56,
   "metadata": {},
   "outputs": [
    {
     "data": {
      "text/plain": [
       "-0.7133862058920846"
      ]
     },
     "execution_count": 56,
     "metadata": {},
     "output_type": "execute_result"
    }
   ],
   "source": [
    "train0['Pregnancies'].values[1]"
   ]
  },
  {
   "cell_type": "code",
   "execution_count": 59,
   "metadata": {},
   "outputs": [
    {
     "data": {
      "text/plain": [
       "['Pregnancies',\n",
       " 'Glucose',\n",
       " 'BloodPressure',\n",
       " 'SkinThickness',\n",
       " 'Insulin',\n",
       " 'BMI',\n",
       " 'DiabetesPedigreeFunction',\n",
       " 'Age',\n",
       " 'Outcome']"
      ]
     },
     "execution_count": 59,
     "metadata": {},
     "output_type": "execute_result"
    }
   ],
   "source": [
    "train0.columns.to_list()"
   ]
  },
  {
   "cell_type": "code",
   "execution_count": 11,
   "metadata": {},
   "outputs": [],
   "source": []
  },
  {
   "cell_type": "code",
   "execution_count": 24,
   "metadata": {},
   "outputs": [
    {
     "name": "stdout",
     "output_type": "stream",
     "text": [
      "-0.7133862058920846 0.435020148721459\n",
      "-0.08947019008413493 0.42270339703368387\n",
      "0.22248781781983992 0.4130525465922088\n",
      "-0.40142819798810975 0.4201658565400954\n",
      "0.5344458257238147 0.41697330529780124\n",
      "0.8464038336277896 0.4045867209861802\n",
      "1.1583618415317645 0.3991149990204513\n",
      "1.4703198494357392 0.4170563726915102\n",
      "1.782277857339714 0.41826017775769225\n",
      "2.094235865243689 0.42281895835657884\n",
      "2.4061938731476635 0.4306136445058601\n",
      "2.7181518810516385 0.4350181096773019\n",
      "3.0301098889556135 0.4335980606762306\n",
      "4.277941920571513 0.4417512280827567\n",
      "3.342067896859588 0.43633215496717404\n",
      "3.654025904763563 0.43904982827138506\n",
      "-1.0253442137960593 0.44174907141527087\n"
     ]
    }
   ],
   "source": [
    "bestCut = 999\n",
    "bestGini = 999\n",
    "\n",
    "\n",
    "\n",
    "    \n",
    "for val in cutVals:\n",
    "    groups = list( (T[ T.Pregnancies > val], T[ T.Pregnancies <= val] ))\n",
    "    classes = T.Outcome.value_counts().keys().to_list()\n",
    "    \n",
    "    _gini = gini_index( groups, classes)\n",
    "\n",
    "    #count1_above = len(T[ (T['Outcome']==1) & (T['Pregnancies'] >  val)])\n",
    "    #count1_below = len(T[ (T['Outcome']==1) & (T['Pregnancies'] <= val)])\n",
    "    #count0_above = len(T[ (T['Outcome']==0) & (T['Pregnancies'] >  val)])\n",
    "    #count0_below = len(T[ (T['Outcome']==0) & (T['Pregnancies'] <= val)])\n",
    "    \n",
    "    print(val, _gini)\n",
    "\n",
    "# test Gini values\n",
    "#print(gini_index([[[1, 1], [1, 0]], [[1, 1], [1, 0]]], [0, 1]))\n",
    "#print(gini_index([[[1, 0], [1, 0]], [[1, 1], [1, 1]]], [0, 1]))\n"
   ]
  },
  {
   "cell_type": "code",
   "execution_count": 21,
   "metadata": {},
   "outputs": [
    {
     "data": {
      "text/html": [
       "<div>\n",
       "<style scoped>\n",
       "    .dataframe tbody tr th:only-of-type {\n",
       "        vertical-align: middle;\n",
       "    }\n",
       "\n",
       "    .dataframe tbody tr th {\n",
       "        vertical-align: top;\n",
       "    }\n",
       "\n",
       "    .dataframe thead th {\n",
       "        text-align: right;\n",
       "    }\n",
       "</style>\n",
       "<table border=\"1\" class=\"dataframe\">\n",
       "  <thead>\n",
       "    <tr style=\"text-align: right;\">\n",
       "      <th></th>\n",
       "      <th>Pregnancies</th>\n",
       "      <th>Glucose</th>\n",
       "      <th>BloodPressure</th>\n",
       "      <th>SkinThickness</th>\n",
       "      <th>Insulin</th>\n",
       "      <th>BMI</th>\n",
       "      <th>DiabetesPedigreeFunction</th>\n",
       "      <th>Age</th>\n",
       "      <th>Outcome</th>\n",
       "    </tr>\n",
       "  </thead>\n",
       "  <tbody>\n",
       "    <tr>\n",
       "      <th>73</th>\n",
       "      <td>0.222488</td>\n",
       "      <td>0.213524</td>\n",
       "      <td>1.232140</td>\n",
       "      <td>-0.868045</td>\n",
       "      <td>0.964820</td>\n",
       "      <td>0.293212</td>\n",
       "      <td>-0.842316</td>\n",
       "      <td>-0.767201</td>\n",
       "      <td>0</td>\n",
       "    </tr>\n",
       "    <tr>\n",
       "      <th>281</th>\n",
       "      <td>2.094236</td>\n",
       "      <td>0.213524</td>\n",
       "      <td>0.429191</td>\n",
       "      <td>-0.105481</td>\n",
       "      <td>-0.282809</td>\n",
       "      <td>0.404308</td>\n",
       "      <td>-0.702189</td>\n",
       "      <td>0.803580</td>\n",
       "      <td>0</td>\n",
       "    </tr>\n",
       "    <tr>\n",
       "      <th>315</th>\n",
       "      <td>-0.401428</td>\n",
       "      <td>-0.328623</td>\n",
       "      <td>-0.213169</td>\n",
       "      <td>-0.677404</td>\n",
       "      <td>-0.518847</td>\n",
       "      <td>0.154343</td>\n",
       "      <td>-0.602098</td>\n",
       "      <td>-0.472679</td>\n",
       "      <td>0</td>\n",
       "    </tr>\n",
       "    <tr>\n",
       "      <th>497</th>\n",
       "      <td>-0.401428</td>\n",
       "      <td>-1.317242</td>\n",
       "      <td>0.108011</td>\n",
       "      <td>-1.344647</td>\n",
       "      <td>-0.670585</td>\n",
       "      <td>-0.401136</td>\n",
       "      <td>0.061361</td>\n",
       "      <td>-0.570853</td>\n",
       "      <td>0</td>\n",
       "    </tr>\n",
       "    <tr>\n",
       "      <th>540</th>\n",
       "      <td>1.470320</td>\n",
       "      <td>-0.711314</td>\n",
       "      <td>0.268601</td>\n",
       "      <td>1.038363</td>\n",
       "      <td>0.501174</td>\n",
       "      <td>0.890351</td>\n",
       "      <td>0.387371</td>\n",
       "      <td>1.196275</td>\n",
       "      <td>1</td>\n",
       "    </tr>\n",
       "    <tr>\n",
       "      <th>...</th>\n",
       "      <td>...</td>\n",
       "      <td>...</td>\n",
       "      <td>...</td>\n",
       "      <td>...</td>\n",
       "      <td>...</td>\n",
       "      <td>...</td>\n",
       "      <td>...</td>\n",
       "      <td>...</td>\n",
       "      <td>...</td>\n",
       "    </tr>\n",
       "    <tr>\n",
       "      <th>617</th>\n",
       "      <td>-0.401428</td>\n",
       "      <td>-1.731824</td>\n",
       "      <td>-0.694939</td>\n",
       "      <td>-1.535287</td>\n",
       "      <td>-1.184811</td>\n",
       "      <td>-1.789831</td>\n",
       "      <td>-0.767963</td>\n",
       "      <td>-0.767201</td>\n",
       "      <td>0</td>\n",
       "    </tr>\n",
       "    <tr>\n",
       "      <th>388</th>\n",
       "      <td>0.534446</td>\n",
       "      <td>0.691888</td>\n",
       "      <td>0.910960</td>\n",
       "      <td>-0.296122</td>\n",
       "      <td>1.091269</td>\n",
       "      <td>-0.137283</td>\n",
       "      <td>-0.210314</td>\n",
       "      <td>2.668881</td>\n",
       "      <td>1</td>\n",
       "    </tr>\n",
       "    <tr>\n",
       "      <th>271</th>\n",
       "      <td>-0.401428</td>\n",
       "      <td>-0.456186</td>\n",
       "      <td>-0.694939</td>\n",
       "      <td>0.275800</td>\n",
       "      <td>-0.839184</td>\n",
       "      <td>-1.081596</td>\n",
       "      <td>-1.136869</td>\n",
       "      <td>-0.963548</td>\n",
       "      <td>0</td>\n",
       "    </tr>\n",
       "    <tr>\n",
       "      <th>480</th>\n",
       "      <td>-0.089470</td>\n",
       "      <td>1.138361</td>\n",
       "      <td>-0.052579</td>\n",
       "      <td>0.085159</td>\n",
       "      <td>1.453755</td>\n",
       "      <td>0.348760</td>\n",
       "      <td>-0.519166</td>\n",
       "      <td>0.410885</td>\n",
       "      <td>1</td>\n",
       "    </tr>\n",
       "    <tr>\n",
       "      <th>87</th>\n",
       "      <td>-0.401428</td>\n",
       "      <td>-0.711314</td>\n",
       "      <td>-0.213169</td>\n",
       "      <td>-0.391443</td>\n",
       "      <td>-0.712735</td>\n",
       "      <td>0.765368</td>\n",
       "      <td>-0.576361</td>\n",
       "      <td>-0.472679</td>\n",
       "      <td>0</td>\n",
       "    </tr>\n",
       "  </tbody>\n",
       "</table>\n",
       "<p>202 rows × 9 columns</p>\n",
       "</div>"
      ],
      "text/plain": [
       "     Pregnancies   Glucose  BloodPressure  SkinThickness   Insulin       BMI  \\\n",
       "73      0.222488  0.213524       1.232140      -0.868045  0.964820  0.293212   \n",
       "281     2.094236  0.213524       0.429191      -0.105481 -0.282809  0.404308   \n",
       "315    -0.401428 -0.328623      -0.213169      -0.677404 -0.518847  0.154343   \n",
       "497    -0.401428 -1.317242       0.108011      -1.344647 -0.670585 -0.401136   \n",
       "540     1.470320 -0.711314       0.268601       1.038363  0.501174  0.890351   \n",
       "..           ...       ...            ...            ...       ...       ...   \n",
       "617    -0.401428 -1.731824      -0.694939      -1.535287 -1.184811 -1.789831   \n",
       "388     0.534446  0.691888       0.910960      -0.296122  1.091269 -0.137283   \n",
       "271    -0.401428 -0.456186      -0.694939       0.275800 -0.839184 -1.081596   \n",
       "480    -0.089470  1.138361      -0.052579       0.085159  1.453755  0.348760   \n",
       "87     -0.401428 -0.711314      -0.213169      -0.391443 -0.712735  0.765368   \n",
       "\n",
       "     DiabetesPedigreeFunction       Age  Outcome  \n",
       "73                  -0.842316 -0.767201        0  \n",
       "281                 -0.702189  0.803580        0  \n",
       "315                 -0.602098 -0.472679        0  \n",
       "497                  0.061361 -0.570853        0  \n",
       "540                  0.387371  1.196275        1  \n",
       "..                        ...       ...      ...  \n",
       "617                 -0.767963 -0.767201        0  \n",
       "388                 -0.210314  2.668881        1  \n",
       "271                 -1.136869 -0.963548        0  \n",
       "480                 -0.519166  0.410885        1  \n",
       "87                  -0.576361 -0.472679        0  \n",
       "\n",
       "[202 rows x 9 columns]"
      ]
     },
     "execution_count": 21,
     "metadata": {},
     "output_type": "execute_result"
    }
   ],
   "source": [
    "T[ T.Pregnancies > val]"
   ]
  },
  {
   "cell_type": "code",
   "execution_count": 23,
   "metadata": {},
   "outputs": [
    {
     "data": {
      "text/plain": [
       "[9, 1]"
      ]
     },
     "execution_count": 23,
     "metadata": {},
     "output_type": "execute_result"
    }
   ],
   "source": [
    "list( (9, 1))"
   ]
  },
  {
   "cell_type": "code",
   "execution_count": null,
   "metadata": {},
   "outputs": [],
   "source": [
    "source"
   ]
  }
 ],
 "metadata": {
  "kernelspec": {
   "display_name": "Python 3",
   "language": "python",
   "name": "python3"
  },
  "language_info": {
   "codemirror_mode": {
    "name": "ipython",
    "version": 3
   },
   "file_extension": ".py",
   "mimetype": "text/x-python",
   "name": "python",
   "nbconvert_exporter": "python",
   "pygments_lexer": "ipython3",
   "version": "3.7.4"
  }
 },
 "nbformat": 4,
 "nbformat_minor": 2
}
